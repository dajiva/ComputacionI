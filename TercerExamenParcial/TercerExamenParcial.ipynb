{
 "cells": [
  {
   "cell_type": "markdown",
   "id": "c9741707",
   "metadata": {},
   "source": [
    "## Tercer examen parcial"
   ]
  },
  {
   "cell_type": "code",
   "execution_count": 60,
   "id": "b3916753",
   "metadata": {},
   "outputs": [
    {
     "name": "stdout",
     "output_type": "stream",
     "text": [
      "Integral Simpson:  0.03464236393076079\n"
     ]
    },
    {
     "data": {
      "text/plain": [
       "'Función original'"
      ]
     },
     "metadata": {},
     "output_type": "display_data"
    },
    {
     "data": {
      "text/latex": [
       "$\\displaystyle - e^{- x} \\sin{\\left(2 \\pi x \\right)}$"
      ],
      "text/plain": [
       "  -x           \n",
       "-ℯ  ⋅sin(2⋅π⋅x)"
      ]
     },
     "metadata": {},
     "output_type": "display_data"
    },
    {
     "data": {
      "text/plain": [
       "''"
      ]
     },
     "metadata": {},
     "output_type": "display_data"
    },
    {
     "data": {
      "text/plain": [
       "'La solución'"
      ]
     },
     "metadata": {},
     "output_type": "display_data"
    },
    {
     "data": {
      "text/latex": [
       "$\\displaystyle \\int \\left(- e^{- x} \\sin{\\left(2 \\pi x \\right)}\\right)\\, dx$"
      ],
      "text/plain": [
       "⌠                   \n",
       "⎮   -x              \n",
       "⎮ -ℯ  ⋅sin(2⋅π⋅x) dx\n",
       "⌡                   "
      ]
     },
     "metadata": {},
     "output_type": "display_data"
    },
    {
     "data": {
      "text/plain": [
       "'es'"
      ]
     },
     "metadata": {},
     "output_type": "display_data"
    },
    {
     "data": {
      "text/latex": [
       "$\\displaystyle 0.0346420014169211$"
      ],
      "text/plain": [
       "0.03464200141692107"
      ]
     },
     "metadata": {},
     "output_type": "display_data"
    },
    {
     "name": "stdout",
     "output_type": "stream",
     "text": [
      "Gráfico de la función\n"
     ]
    },
    {
     "data": {
      "image/png": "[encoded data removed]",
      "text/plain": [
       "<Figure size 432x288 with 1 Axes>"
      ]
     },
     "metadata": {
      "needs_background": "light"
     },
     "output_type": "display_data"
    }
   ],
   "source": [
    "import matplotlib.pyplot as plt\n",
    "import sympy\n",
    "from sympy import *\n",
    "from sympy.abc import x\n",
    "import numpy as np\n",
    "\n",
    "init_printing(use_latex=\"mathjax\")\n",
    "\n",
    "class Graph():\n",
    "    def plotFunction(self, f, a, b):\n",
    "        print(\"Gráfico de la función\")\n",
    "        X = np.linspace(a,b,1000)\n",
    "        Y = np.zeros(shape=len(X))\n",
    "\n",
    "        for i in range(len(X)):\n",
    "            Y[i] = f.subs(x, X[i])\n",
    "\n",
    "        plt.plot(X,Y, label= \"Función original\")\n",
    "        plt.legend(loc=\"best\")\n",
    "        plt.xticks(np.arange(a, b, step=1))\n",
    "    \n",
    "class Cuadratura:\n",
    "    def Simpson38(self,f, a, b):\n",
    "        F = list()\n",
    "        X = np.linspace(a,b,4)\n",
    "        for i in range(len(X)):\n",
    "            F.append(f.subs(x,X[i]))\n",
    "        return (b-a)*(F[0]+3*F[1]+3*F[2]+F[3])/8\n",
    "    \n",
    "    def errorSimpson(self,f, a, b):\n",
    "        xi = (a+b)/2\n",
    "        f4 = diff(f, x, x, x, x)\n",
    "        return -((b-a)**5/6480)*f4.subs(x, xi)\n",
    "    \n",
    "    def recursiveAdpt(self,f, a, b, tol):\n",
    "        c = (a+b)/2\n",
    "        I1 = self.Simpson38(f,a,b)\n",
    "        I2 = self.Simpson38(f,a,c) + self.Simpson38(f,c,b)\n",
    "        if abs(I2 -I1) < tol:\n",
    "            I = I2 +(I2-I1)/15\n",
    "        else:\n",
    "            Ia = self.recursiveAdpt(f, a, c,tol)\n",
    "            Ib = self.recursiveAdpt(f, c, b,tol)\n",
    "            I = Ia + Ib\n",
    "        \n",
    "        return I\n",
    "\n",
    "\n",
    "def main():\n",
    "    f = -sympy.exp(-x) * sin(2*pi*x)\n",
    "    a = 1.5\n",
    "    b = 10\n",
    "    tol = 0.0001\n",
    "    \n",
    "    Cuad = Cuadratura ()\n",
    "    simpson = Cuad.recursiveAdpt(f, a, b, tol)\n",
    "    g = 0.2+25*x-200*x**2+675*x**3-900*x**4+400*x**5\n",
    "    test = Cuad.Simpson38(g, 0, 0.8)\n",
    "    #print(\"Prueba Simpson: \", float(test))\n",
    "    print(\"Integral Simpson: \", float(simpson))\n",
    "    \n",
    "    display(\"Función original\", f)\n",
    "    display(\"\",\"La solución\",Integral(f), \"es\", float(integrate(f, (x, a,b))))\n",
    "\n",
    "    g = Graph()\n",
    "\n",
    "    g.plotFunction(f,a,b)\n",
    "\n",
    "\n",
    "if __name__ == \"__main__\":\n",
    "    main()"
   ]
  },
  {
   "cell_type": "code",
   "execution_count": null,
   "id": "d724d421",
   "metadata": {},
   "outputs": [],
   "source": [
    "def Adaptativa(self, f, a, b, tol):\n",
    "        I = self.Simpson38(f, a, b)\n",
    "        error = self.errorSimpson(f, a, b)\n",
    "        if abs(error) > tol:\n",
    "            c = (a+b)/2\n",
    "            Ia = self.Adaptativa(f, a, c, tol)\n",
    "            Ib = self.Adaptativa(f, c, b, tol)\n",
    "            I = Ia + Ib\n",
    "        return I "
   ]
  }
 ],
 "metadata": {
  "kernelspec": {
   "display_name": "Python 3",
   "language": "python",
   "name": "python3"
  },
  "language_info": {
   "codemirror_mode": {
    "name": "ipython",
    "version": 3
   },
   "file_extension": ".py",
   "mimetype": "text/x-python",
   "name": "python",
   "nbconvert_exporter": "python",
   "pygments_lexer": "ipython3",
   "version": "3.8.6"
  }
 },
 "nbformat": 4,
 "nbformat_minor": 5
}
